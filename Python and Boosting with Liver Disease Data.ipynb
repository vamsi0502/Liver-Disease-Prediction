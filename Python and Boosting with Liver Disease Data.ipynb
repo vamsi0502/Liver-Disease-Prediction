{
 "cells": [
  {
   "cell_type": "markdown",
   "metadata": {},
   "source": [
    "# Learning Boosting Methods using Liver Disease Data"
   ]
  },
  {
   "cell_type": "markdown",
   "metadata": {},
   "source": [
    "This project focuses on visualizing and analysing liver disease data using Python. The primary objective of the project was to learn boosting techniques and implement the various boosting algorithms on this data set in Python. \n",
    "\n",
    "The data set was also particularly interesting to me because it was collected in Northern Andhra Pradesh in India, close to my hometown!\n",
    "\n",
    "**Objectives for this study:**\n",
    "\n",
    "1. Understand the relationships between predictors and response\n",
    "2. Find the model that best predict the disease status\n",
    " - Learn boosting methods and implement them in python\n",
    "3. Determine the most important variables for predicting liver disease"
   ]
  },
  {
   "cell_type": "markdown",
   "metadata": {},
   "source": [
    "## Data Description"
   ]
  },
  {
   "cell_type": "markdown",
   "metadata": {},
   "source": [
    "**Response:** Liver disease Yes or No (categorical)\n",
    "\n",
    "**Predictors:** \n",
    "\n",
    " - Age \n",
    " - Gender\n",
    " - Total Bilirubin (Tot_Bil)\n",
    " - Direct Bilirubin (Dir_Bil)\n",
    " - Alkaline Phosphotase (Alk)\n",
    " - Alamine Aminotransferase (Ala)\n",
    " - Aspartate Aminotransferase (Asp)\n",
    " - Total Proteins (Tot_Pro)\n",
    " - Albumin (Alb)\n",
    " - Albumin and Globulin Ratio (AGR)\n",
    " \n",
    "_Data Source: Lichman, M. (2013). UCI Machine Learning Repository [http://archive.ics.uci.edu/ml]. Irvine, CA: University of California, School of Information and Computer Science._\n"
   ]
  },
  {
   "cell_type": "markdown",
   "metadata": {},
   "source": [
    "## Analysis Process\n",
    "\n",
    "This notebook can be split into the following sections:\n",
    "\n",
    "- Data cleaning\n",
    "- Exploratory data analysis\n",
    "- Model building and evaluation\n",
    "- Result interpretations"
   ]
  },
  {
   "cell_type": "code",
   "execution_count": 1,
   "metadata": {},
   "outputs": [],
   "source": [
    "# Import libraries\n",
    "\n",
    "import numpy as np\n",
    "import pandas as pd\n",
    "import matplotlib.pyplot as plt\n",
    "import seaborn as sns\n",
    "sns.set_style('whitegrid') #sets seaborn plots style globally\n",
    "%matplotlib inline\n"
   ]
  },
  {
   "cell_type": "markdown",
   "metadata": {},
   "source": [
    "### Data Cleaning"
   ]
  },
  {
   "cell_type": "code",
   "execution_count": 41,
   "metadata": {},
   "outputs": [],
   "source": [
    "# Load data\n",
    "\n",
    "df = pd.read_csv(\"./Indian Liver Patient Dataset.csv\")"
   ]
  },
  {
   "cell_type": "code",
   "execution_count": 23,
   "metadata": {},
   "outputs": [
    {
     "name": "stdout",
     "output_type": "stream",
     "text": [
      "<class 'pandas.core.frame.DataFrame'>\n",
      "RangeIndex: 583 entries, 0 to 582\n",
      "Data columns (total 12 columns):\n",
      "ID          583 non-null int64\n",
      "Age         583 non-null int64\n",
      "Gender      583 non-null object\n",
      "Tot_Bil     583 non-null float64\n",
      "Dir_Bil     583 non-null float64\n",
      "Alk         583 non-null int64\n",
      "Ala         583 non-null int64\n",
      "Asp         583 non-null int64\n",
      "Tot_Pro     583 non-null float64\n",
      "Alb         583 non-null float64\n",
      "AGR         579 non-null float64\n",
      "Category    583 non-null int64\n",
      "dtypes: float64(5), int64(6), object(1)\n",
      "memory usage: 54.8+ KB\n"
     ]
    }
   ],
   "source": [
    "df.info()"
   ]
  },
  {
   "cell_type": "code",
   "execution_count": 24,
   "metadata": {},
   "outputs": [
    {
     "data": {
      "text/html": [
       "<div>\n",
       "<style scoped>\n",
       "    .dataframe tbody tr th:only-of-type {\n",
       "        vertical-align: middle;\n",
       "    }\n",
       "\n",
       "    .dataframe tbody tr th {\n",
       "        vertical-align: top;\n",
       "    }\n",
       "\n",
       "    .dataframe thead th {\n",
       "        text-align: right;\n",
       "    }\n",
       "</style>\n",
       "<table border=\"1\" class=\"dataframe\">\n",
       "  <thead>\n",
       "    <tr style=\"text-align: right;\">\n",
       "      <th></th>\n",
       "      <th>ID</th>\n",
       "      <th>Age</th>\n",
       "      <th>Gender</th>\n",
       "      <th>Tot_Bil</th>\n",
       "      <th>Dir_Bil</th>\n",
       "      <th>Alk</th>\n",
       "      <th>Ala</th>\n",
       "      <th>Asp</th>\n",
       "      <th>Tot_Pro</th>\n",
       "      <th>Alb</th>\n",
       "      <th>AGR</th>\n",
       "      <th>Category</th>\n",
       "    </tr>\n",
       "  </thead>\n",
       "  <tbody>\n",
       "    <tr>\n",
       "      <th>0</th>\n",
       "      <td>1</td>\n",
       "      <td>65</td>\n",
       "      <td>Female</td>\n",
       "      <td>0.7</td>\n",
       "      <td>0.1</td>\n",
       "      <td>187</td>\n",
       "      <td>16</td>\n",
       "      <td>18</td>\n",
       "      <td>6.8</td>\n",
       "      <td>3.3</td>\n",
       "      <td>0.90</td>\n",
       "      <td>1</td>\n",
       "    </tr>\n",
       "    <tr>\n",
       "      <th>1</th>\n",
       "      <td>2</td>\n",
       "      <td>62</td>\n",
       "      <td>Male</td>\n",
       "      <td>10.9</td>\n",
       "      <td>5.5</td>\n",
       "      <td>699</td>\n",
       "      <td>64</td>\n",
       "      <td>100</td>\n",
       "      <td>7.5</td>\n",
       "      <td>3.2</td>\n",
       "      <td>0.74</td>\n",
       "      <td>1</td>\n",
       "    </tr>\n",
       "    <tr>\n",
       "      <th>2</th>\n",
       "      <td>3</td>\n",
       "      <td>62</td>\n",
       "      <td>Male</td>\n",
       "      <td>7.3</td>\n",
       "      <td>4.1</td>\n",
       "      <td>490</td>\n",
       "      <td>60</td>\n",
       "      <td>68</td>\n",
       "      <td>7.0</td>\n",
       "      <td>3.3</td>\n",
       "      <td>0.89</td>\n",
       "      <td>1</td>\n",
       "    </tr>\n",
       "    <tr>\n",
       "      <th>3</th>\n",
       "      <td>4</td>\n",
       "      <td>58</td>\n",
       "      <td>Male</td>\n",
       "      <td>1.0</td>\n",
       "      <td>0.4</td>\n",
       "      <td>182</td>\n",
       "      <td>14</td>\n",
       "      <td>20</td>\n",
       "      <td>6.8</td>\n",
       "      <td>3.4</td>\n",
       "      <td>1.00</td>\n",
       "      <td>1</td>\n",
       "    </tr>\n",
       "    <tr>\n",
       "      <th>4</th>\n",
       "      <td>5</td>\n",
       "      <td>72</td>\n",
       "      <td>Male</td>\n",
       "      <td>3.9</td>\n",
       "      <td>2.0</td>\n",
       "      <td>195</td>\n",
       "      <td>27</td>\n",
       "      <td>59</td>\n",
       "      <td>7.3</td>\n",
       "      <td>2.4</td>\n",
       "      <td>0.40</td>\n",
       "      <td>1</td>\n",
       "    </tr>\n",
       "  </tbody>\n",
       "</table>\n",
       "</div>"
      ],
      "text/plain": [
       "   ID  Age  Gender  Tot_Bil  Dir_Bil  Alk  Ala  Asp  Tot_Pro  Alb   AGR  \\\n",
       "0   1   65  Female      0.7      0.1  187   16   18      6.8  3.3  0.90   \n",
       "1   2   62    Male     10.9      5.5  699   64  100      7.5  3.2  0.74   \n",
       "2   3   62    Male      7.3      4.1  490   60   68      7.0  3.3  0.89   \n",
       "3   4   58    Male      1.0      0.4  182   14   20      6.8  3.4  1.00   \n",
       "4   5   72    Male      3.9      2.0  195   27   59      7.3  2.4  0.40   \n",
       "\n",
       "   Category  \n",
       "0         1  \n",
       "1         1  \n",
       "2         1  \n",
       "3         1  \n",
       "4         1  "
      ]
     },
     "execution_count": 24,
     "metadata": {},
     "output_type": "execute_result"
    }
   ],
   "source": [
    "df.head(5)"
   ]
  },
  {
   "cell_type": "markdown",
   "metadata": {},
   "source": [
    " "
   ]
  },
  {
   "cell_type": "markdown",
   "metadata": {},
   "source": [
    "We see that Gender is the only categorical predictor. All other predictors are numeric in nature. "
   ]
  },
  {
   "cell_type": "markdown",
   "metadata": {},
   "source": [
    " "
   ]
  },
  {
   "cell_type": "code",
   "execution_count": 25,
   "metadata": {},
   "outputs": [
    {
     "data": {
      "text/html": [
       "<div>\n",
       "<style scoped>\n",
       "    .dataframe tbody tr th:only-of-type {\n",
       "        vertical-align: middle;\n",
       "    }\n",
       "\n",
       "    .dataframe tbody tr th {\n",
       "        vertical-align: top;\n",
       "    }\n",
       "\n",
       "    .dataframe thead th {\n",
       "        text-align: right;\n",
       "    }\n",
       "</style>\n",
       "<table border=\"1\" class=\"dataframe\">\n",
       "  <thead>\n",
       "    <tr style=\"text-align: right;\">\n",
       "      <th></th>\n",
       "      <th>ID</th>\n",
       "      <th>Age</th>\n",
       "      <th>Tot_Bil</th>\n",
       "      <th>Dir_Bil</th>\n",
       "      <th>Alk</th>\n",
       "      <th>Ala</th>\n",
       "      <th>Asp</th>\n",
       "      <th>Tot_Pro</th>\n",
       "      <th>Alb</th>\n",
       "      <th>AGR</th>\n",
       "      <th>Category</th>\n",
       "    </tr>\n",
       "  </thead>\n",
       "  <tbody>\n",
       "    <tr>\n",
       "      <th>count</th>\n",
       "      <td>583.000000</td>\n",
       "      <td>583.000000</td>\n",
       "      <td>583.000000</td>\n",
       "      <td>583.000000</td>\n",
       "      <td>583.000000</td>\n",
       "      <td>583.000000</td>\n",
       "      <td>583.000000</td>\n",
       "      <td>583.000000</td>\n",
       "      <td>583.000000</td>\n",
       "      <td>579.000000</td>\n",
       "      <td>583.000000</td>\n",
       "    </tr>\n",
       "    <tr>\n",
       "      <th>mean</th>\n",
       "      <td>292.000000</td>\n",
       "      <td>44.746141</td>\n",
       "      <td>3.298799</td>\n",
       "      <td>1.486106</td>\n",
       "      <td>290.576329</td>\n",
       "      <td>80.713551</td>\n",
       "      <td>109.910806</td>\n",
       "      <td>6.483190</td>\n",
       "      <td>3.141852</td>\n",
       "      <td>0.947064</td>\n",
       "      <td>1.286449</td>\n",
       "    </tr>\n",
       "    <tr>\n",
       "      <th>std</th>\n",
       "      <td>168.441879</td>\n",
       "      <td>16.189833</td>\n",
       "      <td>6.209522</td>\n",
       "      <td>2.808498</td>\n",
       "      <td>242.937989</td>\n",
       "      <td>182.620356</td>\n",
       "      <td>288.918529</td>\n",
       "      <td>1.085451</td>\n",
       "      <td>0.795519</td>\n",
       "      <td>0.319592</td>\n",
       "      <td>0.452490</td>\n",
       "    </tr>\n",
       "    <tr>\n",
       "      <th>min</th>\n",
       "      <td>1.000000</td>\n",
       "      <td>4.000000</td>\n",
       "      <td>0.400000</td>\n",
       "      <td>0.100000</td>\n",
       "      <td>63.000000</td>\n",
       "      <td>10.000000</td>\n",
       "      <td>10.000000</td>\n",
       "      <td>2.700000</td>\n",
       "      <td>0.900000</td>\n",
       "      <td>0.300000</td>\n",
       "      <td>1.000000</td>\n",
       "    </tr>\n",
       "    <tr>\n",
       "      <th>25%</th>\n",
       "      <td>146.500000</td>\n",
       "      <td>33.000000</td>\n",
       "      <td>0.800000</td>\n",
       "      <td>0.200000</td>\n",
       "      <td>175.500000</td>\n",
       "      <td>23.000000</td>\n",
       "      <td>25.000000</td>\n",
       "      <td>5.800000</td>\n",
       "      <td>2.600000</td>\n",
       "      <td>0.700000</td>\n",
       "      <td>1.000000</td>\n",
       "    </tr>\n",
       "    <tr>\n",
       "      <th>50%</th>\n",
       "      <td>292.000000</td>\n",
       "      <td>45.000000</td>\n",
       "      <td>1.000000</td>\n",
       "      <td>0.300000</td>\n",
       "      <td>208.000000</td>\n",
       "      <td>35.000000</td>\n",
       "      <td>42.000000</td>\n",
       "      <td>6.600000</td>\n",
       "      <td>3.100000</td>\n",
       "      <td>0.930000</td>\n",
       "      <td>1.000000</td>\n",
       "    </tr>\n",
       "    <tr>\n",
       "      <th>75%</th>\n",
       "      <td>437.500000</td>\n",
       "      <td>58.000000</td>\n",
       "      <td>2.600000</td>\n",
       "      <td>1.300000</td>\n",
       "      <td>298.000000</td>\n",
       "      <td>60.500000</td>\n",
       "      <td>87.000000</td>\n",
       "      <td>7.200000</td>\n",
       "      <td>3.800000</td>\n",
       "      <td>1.100000</td>\n",
       "      <td>2.000000</td>\n",
       "    </tr>\n",
       "    <tr>\n",
       "      <th>max</th>\n",
       "      <td>583.000000</td>\n",
       "      <td>90.000000</td>\n",
       "      <td>75.000000</td>\n",
       "      <td>19.700000</td>\n",
       "      <td>2110.000000</td>\n",
       "      <td>2000.000000</td>\n",
       "      <td>4929.000000</td>\n",
       "      <td>9.600000</td>\n",
       "      <td>5.500000</td>\n",
       "      <td>2.800000</td>\n",
       "      <td>2.000000</td>\n",
       "    </tr>\n",
       "  </tbody>\n",
       "</table>\n",
       "</div>"
      ],
      "text/plain": [
       "               ID         Age     Tot_Bil     Dir_Bil          Alk  \\\n",
       "count  583.000000  583.000000  583.000000  583.000000   583.000000   \n",
       "mean   292.000000   44.746141    3.298799    1.486106   290.576329   \n",
       "std    168.441879   16.189833    6.209522    2.808498   242.937989   \n",
       "min      1.000000    4.000000    0.400000    0.100000    63.000000   \n",
       "25%    146.500000   33.000000    0.800000    0.200000   175.500000   \n",
       "50%    292.000000   45.000000    1.000000    0.300000   208.000000   \n",
       "75%    437.500000   58.000000    2.600000    1.300000   298.000000   \n",
       "max    583.000000   90.000000   75.000000   19.700000  2110.000000   \n",
       "\n",
       "               Ala          Asp     Tot_Pro         Alb         AGR  \\\n",
       "count   583.000000   583.000000  583.000000  583.000000  579.000000   \n",
       "mean     80.713551   109.910806    6.483190    3.141852    0.947064   \n",
       "std     182.620356   288.918529    1.085451    0.795519    0.319592   \n",
       "min      10.000000    10.000000    2.700000    0.900000    0.300000   \n",
       "25%      23.000000    25.000000    5.800000    2.600000    0.700000   \n",
       "50%      35.000000    42.000000    6.600000    3.100000    0.930000   \n",
       "75%      60.500000    87.000000    7.200000    3.800000    1.100000   \n",
       "max    2000.000000  4929.000000    9.600000    5.500000    2.800000   \n",
       "\n",
       "         Category  \n",
       "count  583.000000  \n",
       "mean     1.286449  \n",
       "std      0.452490  \n",
       "min      1.000000  \n",
       "25%      1.000000  \n",
       "50%      1.000000  \n",
       "75%      2.000000  \n",
       "max      2.000000  "
      ]
     },
     "execution_count": 25,
     "metadata": {},
     "output_type": "execute_result"
    }
   ],
   "source": [
    "df.describe() # summary statistics for all the numeric columns"
   ]
  },
  {
   "cell_type": "code",
   "execution_count": 26,
   "metadata": {},
   "outputs": [
    {
     "data": {
      "text/plain": [
       "ID          0\n",
       "Age         0\n",
       "Gender      0\n",
       "Tot_Bil     0\n",
       "Dir_Bil     0\n",
       "Alk         0\n",
       "Ala         0\n",
       "Asp         0\n",
       "Tot_Pro     0\n",
       "Alb         0\n",
       "AGR         4\n",
       "Category    0\n",
       "dtype: int64"
      ]
     },
     "execution_count": 26,
     "metadata": {},
     "output_type": "execute_result"
    }
   ],
   "source": [
    "df.isnull().sum()"
   ]
  },
  {
   "cell_type": "markdown",
   "metadata": {},
   "source": [
    "There are 4 missing values in the AGR column, which is a small proportion of the total observations in the data. We can leave them in the dataset for now. "
   ]
  },
  {
   "cell_type": "markdown",
   "metadata": {},
   "source": [
    "## Exploratory Data Analysis"
   ]
  },
  {
   "cell_type": "markdown",
   "metadata": {},
   "source": [
    "In this section, we examine the response as well as the predictors to understand the data better. We also try to gain insight into the relationships between predictors as well as between predictors and response. Visualizations are our main tool for this section. \n",
    "\n",
    "We will follow these steps:\n",
    "\n",
    "- Univariate exploration - understand each variable on its own\n",
    "- Bivariate exploration - understand relationships between variables"
   ]
  },
  {
   "cell_type": "markdown",
   "metadata": {},
   "source": [
    "### Univariate Exploration"
   ]
  },
  {
   "cell_type": "code",
   "execution_count": 43,
   "metadata": {},
   "outputs": [
    {
     "name": "stdout",
     "output_type": "stream",
     "text": [
      "Number of patients diagnosed with liver disease:  416\n",
      "Number of patients diagnosed with no liver disease:  167\n"
     ]
    },
    {
     "data": {
      "image/png": "[encoded data removed]",
      "text/plain": [
       "<Figure size 432x288 with 1 Axes>"
      ]
     },
     "metadata": {},
     "output_type": "display_data"
    }
   ],
   "source": [
    "# Response is disease status - Categorical\n",
    "# Category is 1 indicates 'disease' and 2 indicates 'no disease'\n",
    "\n",
    "rename = {1: \"Disease\", 2: \"No Disease\"}\n",
    "df.replace({\"Category\": rename}, inplace=True)\n",
    "\n",
    "df = df.rename({'Category': 'Disease'}, axis = 1)\n",
    "\n",
    "sns.countplot(x = 'Disease', label = 'Count', data = df)\n",
    "plt.title(\"Count plot for disease prevalence\")\n",
    "\n",
    "LD, NLD = df['Disease'].value_counts()\n",
    "print('Number of patients diagnosed with liver disease: ',LD)\n",
    "print('Number of patients diagnosed with no liver disease: ',NLD)\n"
   ]
  },
  {
   "cell_type": "code",
   "execution_count": 28,
   "metadata": {},
   "outputs": [
    {
     "name": "stdout",
     "output_type": "stream",
     "text": [
      "Number of Males:    441\n",
      "Number of Females:  142\n"
     ]
    },
    {
     "data": {
      "image/png": "[encoded data removed]",
      "text/plain": [
       "<Figure size 432x288 with 1 Axes>"
      ]
     },
     "metadata": {},
     "output_type": "display_data"
    }
   ],
   "source": [
    "# Gender is the only other categorical variable. \n",
    "\n",
    "sns.countplot(x = 'Gender', label = 'Count', data = df)\n",
    "plt.title(\"Gender Ratio in dataset\")\n",
    "\n",
    "male, female = df['Gender'].value_counts()\n",
    "print('Number of Males:   ',male)\n",
    "print('Number of Females: ',female)"
   ]
  },
  {
   "cell_type": "code",
   "execution_count": 29,
   "metadata": {},
   "outputs": [
    {
     "data": {
      "text/plain": [
       "<matplotlib.axes._subplots.AxesSubplot at 0x2c9bb9c3240>"
      ]
     },
     "execution_count": 29,
     "metadata": {},
     "output_type": "execute_result"
    },
    {
     "data": {
      "image/png": "[encoded data removed]",
      "text/plain": [
       "<Figure size 432x288 with 1 Axes>"
      ]
     },
     "metadata": {},
     "output_type": "display_data"
    }
   ],
   "source": [
    "# Exploring Numerical Variables\n",
    "\n",
    "sns.boxplot(x = \"variable\", y = \"value\", data = pd.melt(df.iloc[:,3:11]))\n"
   ]
  },
  {
   "cell_type": "markdown",
   "metadata": {},
   "source": [
    "There is a huge disparity in the range of variables from one to another. Asp has values from 100 to ~5000 whereas AGR is between 0.9 and 2.2. \n",
    "\n",
    "We need to standarize the variables so they have similar ranges. This will help understand the effect of different variables in evental model building. "
   ]
  },
  {
   "cell_type": "code",
   "execution_count": 30,
   "metadata": {},
   "outputs": [
    {
     "data": {
      "image/png": "[encoded data removed]",
      "text/plain": [
       "<Figure size 1080x1440 with 10 Axes>"
      ]
     },
     "metadata": {},
     "output_type": "display_data"
    }
   ],
   "source": [
    "# outlier check\n",
    "\n",
    "plt.figure(figsize=(15, 20))\n",
    "\n",
    "for i, c in enumerate(df.drop('Disease', axis=1).select_dtypes(include='number').columns):\n",
    "    plt.subplot(10,2,i+1)\n",
    "    sns.boxplot(x = df[c], color='blue')\n",
    "    plt.title('Distribution plot for field:' + c)\n",
    "    plt.xlabel('')\n",
    "    plt.tight_layout(pad=0.4, w_pad=0.5, h_pad=1.0)"
   ]
  },
  {
   "cell_type": "markdown",
   "metadata": {},
   "source": [
    "The boxplots for each variable show several unusual observations! We need to address this before we fit any models. "
   ]
  },
  {
   "cell_type": "code",
   "execution_count": 31,
   "metadata": {},
   "outputs": [
    {
     "data": {
      "image/png": "[encoded data removed]",
      "text/plain": [
       "<Figure size 1080x864 with 10 Axes>"
      ]
     },
     "metadata": {},
     "output_type": "display_data"
    }
   ],
   "source": [
    "plt.figure(figsize=(15, 12))\n",
    "\n",
    "for i, c in enumerate(df.select_dtypes(include='number').columns):\n",
    "    plt.subplot(5,2,i+1)\n",
    "    sns.histplot(x = df[c], kde = True)\n",
    "    plt.title('Distribution plot for field:' + c)\n",
    "    plt.xlabel('')\n",
    "    plt.tight_layout(pad=0.4, w_pad=0.5, h_pad=1.0)"
   ]
  },
  {
   "cell_type": "markdown",
   "metadata": {},
   "source": [
    "### Bivariate Exploration"
   ]
  },
  {
   "cell_type": "code",
   "execution_count": 32,
   "metadata": {},
   "outputs": [
    {
     "data": {
      "text/plain": [
       "<matplotlib.axes._subplots.AxesSubplot at 0x2c9bbbfa358>"
      ]
     },
     "execution_count": 32,
     "metadata": {},
     "output_type": "execute_result"
    },
    {
     "data": {
      "image/png": "[encoded data removed]",
      "text/plain": [
       "<Figure size 432x288 with 2 Axes>"
      ]
     },
     "metadata": {},
     "output_type": "display_data"
    }
   ],
   "source": [
    "# Pairwise correlation between continuous variables\n",
    "\n",
    "df_cts = df.iloc[:, 3:11]\n",
    "df_cts['Age'] = df['Age']\n",
    "sns.heatmap(df_cts.corr(), cmap = \"coolwarm\", annot = True)\n"
   ]
  },
  {
   "cell_type": "markdown",
   "metadata": {},
   "source": [
    "The heatmap of the correlation plot shows some very interesting patterns. We see that the following pairs have high pairwise correaltion:\n",
    "\n",
    "- Total and Direct Bilirubin\n",
    "- Alamine and Aspartate\n",
    "- Total Protein and Albumin\n",
    "- Albumin and AGR\n",
    "\n",
    "These high-correlations indicate that we may have redundant information among the available predictor set and may need some feature selection or feature engineering before model fitting. \n",
    "\n",
    "The pairwise correlations can also be examined using scatterplots."
   ]
  },
  {
   "cell_type": "code",
   "execution_count": 33,
   "metadata": {},
   "outputs": [
    {
     "data": {
      "text/plain": [
       "<matplotlib.axes._subplots.AxesSubplot at 0x2c9bb5070f0>"
      ]
     },
     "execution_count": 33,
     "metadata": {},
     "output_type": "execute_result"
    },
    {
     "data": {
      "image/png": "[encoded data removed]",
      "text/plain": [
       "<Figure size 432x288 with 1 Axes>"
      ]
     },
     "metadata": {},
     "output_type": "display_data"
    }
   ],
   "source": [
    "# Visualize high correlations using scatter plots\n",
    "\n",
    "sns.scatterplot(x = \"Tot_Bil\", y = \"Dir_Bil\", data = df)"
   ]
  },
  {
   "cell_type": "code",
   "execution_count": 34,
   "metadata": {},
   "outputs": [
    {
     "data": {
      "text/plain": [
       "<matplotlib.axes._subplots.AxesSubplot at 0x2c9bbc95550>"
      ]
     },
     "execution_count": 34,
     "metadata": {},
     "output_type": "execute_result"
    },
    {
     "data": {
      "image/png": "[encoded data removed]",
      "text/plain": [
       "<Figure size 432x288 with 1 Axes>"
      ]
     },
     "metadata": {},
     "output_type": "display_data"
    }
   ],
   "source": [
    "sns.scatterplot(x = \"Ala\", y = \"Asp\", data = df)"
   ]
  },
  {
   "cell_type": "code",
   "execution_count": 35,
   "metadata": {},
   "outputs": [
    {
     "data": {
      "text/plain": [
       "<matplotlib.axes._subplots.AxesSubplot at 0x2c9baaed940>"
      ]
     },
     "execution_count": 35,
     "metadata": {},
     "output_type": "execute_result"
    },
    {
     "data": {
      "image/png": "[encoded data removed]",
      "text/plain": [
       "<Figure size 432x288 with 1 Axes>"
      ]
     },
     "metadata": {},
     "output_type": "display_data"
    }
   ],
   "source": [
    "sns.scatterplot(x = \"Tot_Pro\", y = \"Alb\", data = df)"
   ]
  },
  {
   "cell_type": "code",
   "execution_count": 36,
   "metadata": {},
   "outputs": [
    {
     "data": {
      "text/plain": [
       "<matplotlib.axes._subplots.AxesSubplot at 0x2c9bb8beac8>"
      ]
     },
     "execution_count": 36,
     "metadata": {},
     "output_type": "execute_result"
    },
    {
     "data": {
      "image/png": "[encoded data removed]",
      "text/plain": [
       "<Figure size 432x288 with 1 Axes>"
      ]
     },
     "metadata": {},
     "output_type": "display_data"
    }
   ],
   "source": [
    "sns.scatterplot(x = \"Alb\", y = \"AGR\", data = df)"
   ]
  },
  {
   "cell_type": "code",
   "execution_count": 37,
   "metadata": {},
   "outputs": [
    {
     "data": {
      "text/html": [
       "<div>\n",
       "<style scoped>\n",
       "    .dataframe tbody tr th:only-of-type {\n",
       "        vertical-align: middle;\n",
       "    }\n",
       "\n",
       "    .dataframe tbody tr th {\n",
       "        vertical-align: top;\n",
       "    }\n",
       "\n",
       "    .dataframe thead th {\n",
       "        text-align: right;\n",
       "    }\n",
       "</style>\n",
       "<table border=\"1\" class=\"dataframe\">\n",
       "  <thead>\n",
       "    <tr style=\"text-align: right;\">\n",
       "      <th>Disease</th>\n",
       "      <th>Disease</th>\n",
       "      <th>No Disease</th>\n",
       "    </tr>\n",
       "    <tr>\n",
       "      <th>Gender</th>\n",
       "      <th></th>\n",
       "      <th></th>\n",
       "    </tr>\n",
       "  </thead>\n",
       "  <tbody>\n",
       "    <tr>\n",
       "      <th>Female</th>\n",
       "      <td>92</td>\n",
       "      <td>50</td>\n",
       "    </tr>\n",
       "    <tr>\n",
       "      <th>Male</th>\n",
       "      <td>324</td>\n",
       "      <td>117</td>\n",
       "    </tr>\n",
       "  </tbody>\n",
       "</table>\n",
       "</div>"
      ],
      "text/plain": [
       "Disease  Disease  No Disease\n",
       "Gender                      \n",
       "Female        92          50\n",
       "Male         324         117"
      ]
     },
     "execution_count": 37,
     "metadata": {},
     "output_type": "execute_result"
    }
   ],
   "source": [
    "#Examning relationship between predictors and response\n",
    "\n",
    "contingency = pd.crosstab(df['Gender'], df['Disease']) \n",
    "contingency_pct = pd.crosstab(df['Gender'], df['Disease'], normalize='index') \n",
    "contingency"
   ]
  },
  {
   "cell_type": "code",
   "execution_count": 38,
   "metadata": {},
   "outputs": [
    {
     "data": {
      "text/plain": [
       "<matplotlib.axes._subplots.AxesSubplot at 0x2c9bbdb1160>"
      ]
     },
     "execution_count": 38,
     "metadata": {},
     "output_type": "execute_result"
    },
    {
     "data": {
      "image/png": "[encoded data removed]",
      "text/plain": [
       "<Figure size 432x288 with 2 Axes>"
      ]
     },
     "metadata": {},
     "output_type": "display_data"
    }
   ],
   "source": [
    "sns.heatmap(contingency, annot = True, cmap = 'coolwarm', fmt='g')"
   ]
  },
  {
   "cell_type": "code",
   "execution_count": 39,
   "metadata": {},
   "outputs": [
    {
     "data": {
      "text/plain": [
       "0.059665846857774464"
      ]
     },
     "execution_count": 39,
     "metadata": {},
     "output_type": "execute_result"
    }
   ],
   "source": [
    "# Run chi square test of independence between disease status and Gender\n",
    "\n",
    "from scipy.stats import chi2_contingency\n",
    "\n",
    "chi2_value, p_value, df, expected = chi2_contingency(contingency)\n",
    "p_value"
   ]
  },
  {
   "cell_type": "markdown",
   "metadata": {},
   "source": [
    "The null hypothesis is that there is no relationship between disease status and gender. The chi-square test indicates that we do not have sufficient evidence to reject the null hypothesis at a 0.05 significance level. In other words, we don't have evidence to conclude that gender and disease status are not independent. "
   ]
  },
  {
   "cell_type": "code",
   "execution_count": 44,
   "metadata": {},
   "outputs": [
    {
     "data": {
      "image/png": "[encoded data removed]",
      "text/plain": [
       "<Figure size 1080x864 with 10 Axes>"
      ]
     },
     "metadata": {},
     "output_type": "display_data"
    }
   ],
   "source": [
    "# Disease status vs Predictors\n",
    "\n",
    "plt.figure(figsize=(15, 12))\n",
    "\n",
    "for i, c in enumerate(df.select_dtypes(include='number').columns):\n",
    "    plt.subplot(5,2,i+1)\n",
    "    sns.histplot(x = df[c], data = df, hue = 'Disease')\n",
    "    plt.title('Distribution plot for field:' + c)\n",
    "    plt.xlabel('')\n",
    "    plt.tight_layout(pad=0.4, w_pad=0.5, h_pad=1.0)"
   ]
  },
  {
   "cell_type": "markdown",
   "metadata": {},
   "source": [
    "** Major takeaways from EDA **\n",
    "\n",
    "1. The response - disease status - is imbalanced, i.e., the proportion of disease to healthy subjects is not 50/50. We may need to address this if our initial models have poor performance. \n",
    "\n",
    "2. There are many influential points in the data. Influential points are observations that have unusual predictor value compared to the rest of the observations. \n",
    "\n",
    "3. Some predictors have very high pairwise correlation with other predictors. \n",
    "\n",
    "4. Disease status does not seem to be associated with gender. "
   ]
  },
  {
   "cell_type": "markdown",
   "metadata": {},
   "source": [
    "### Data Cleaning and Feature Engineering"
   ]
  },
  {
   "cell_type": "markdown",
   "metadata": {},
   "source": [
    "In this step, we examine the data for missing values and handle them. We also make decisions on how to handle high-correlated predictors. "
   ]
  },
  {
   "cell_type": "code",
   "execution_count": 45,
   "metadata": {},
   "outputs": [
    {
     "data": {
      "text/plain": [
       "ID         0\n",
       "Age        0\n",
       "Gender     0\n",
       "Tot_Bil    0\n",
       "Dir_Bil    0\n",
       "Alk        0\n",
       "Ala        0\n",
       "Asp        0\n",
       "Tot_Pro    0\n",
       "Alb        0\n",
       "AGR        4\n",
       "Disease    0\n",
       "dtype: int64"
      ]
     },
     "execution_count": 45,
     "metadata": {},
     "output_type": "execute_result"
    }
   ],
   "source": [
    "#missing values by column\n",
    "\n",
    "df.isnull().sum()"
   ]
  },
  {
   "cell_type": "markdown",
   "metadata": {},
   "source": [
    "There are only 4 missing values, all of which are in the AGR column. From EDA, we know that AGR is highly correlated with Alb. We use this information to impute there 4 missing values. \n",
    "\n",
    "We use simple linear regression between Alb and AGR to predict the missing values. "
   ]
  },
  {
   "cell_type": "code",
   "execution_count": 46,
   "metadata": {},
   "outputs": [],
   "source": [
    "na_ids = df['AGR'][df['AGR'].isnull()].index.tolist()"
   ]
  },
  {
   "cell_type": "code",
   "execution_count": 47,
   "metadata": {},
   "outputs": [],
   "source": [
    "X = df['Alb'].values.reshape((-1,1))\n",
    "X = np.delete(X, na_ids)\n",
    "X = X.reshape((-1,1))\n",
    "Y = df['AGR'].values.reshape((-1,1))\n",
    "Y = np.delete(Y, na_ids)\n",
    "Y = Y.reshape((-1,1))"
   ]
  },
  {
   "cell_type": "code",
   "execution_count": 48,
   "metadata": {},
   "outputs": [
    {
     "name": "stderr",
     "output_type": "stream",
     "text": [
      "C:\\Users\\vamsi\\Anaconda3\\lib\\site-packages\\ipykernel_launcher.py:9: SettingWithCopyWarning: \n",
      "A value is trying to be set on a copy of a slice from a DataFrame\n",
      "\n",
      "See the caveats in the documentation: http://pandas.pydata.org/pandas-docs/stable/user_guide/indexing.html#returning-a-view-versus-a-copy\n",
      "  if __name__ == '__main__':\n"
     ]
    }
   ],
   "source": [
    "# regression between Alb and AGR\n",
    "\n",
    "from sklearn.linear_model import LinearRegression\n",
    "\n",
    "lm1 = LinearRegression()\n",
    "\n",
    "lm1.fit(X, Y)\n",
    "AGR_pred_nas = lm1.predict(df['Alb'].values.reshape((-1,1))[na_ids])\n",
    "df['AGR'][na_ids] = AGR_pred_nas.reshape((-1,))"
   ]
  },
  {
   "cell_type": "code",
   "execution_count": 49,
   "metadata": {},
   "outputs": [
    {
     "data": {
      "text/plain": [
       "ID         0\n",
       "Age        0\n",
       "Gender     0\n",
       "Tot_Bil    0\n",
       "Dir_Bil    0\n",
       "Alk        0\n",
       "Ala        0\n",
       "Asp        0\n",
       "Tot_Pro    0\n",
       "Alb        0\n",
       "AGR        0\n",
       "Disease    0\n",
       "dtype: int64"
      ]
     },
     "execution_count": 49,
     "metadata": {},
     "output_type": "execute_result"
    }
   ],
   "source": [
    "df.isnull().sum()"
   ]
  },
  {
   "cell_type": "markdown",
   "metadata": {},
   "source": [
    "Now, we have no missing values in the dataset"
   ]
  },
  {
   "cell_type": "markdown",
   "metadata": {},
   "source": [
    "** Correlated predictors **\n",
    "\n",
    "Earlier we saw that some of the predictors were highly correlated with each other. In order to remove one of the predictors in the pair, we compute the average correlation of both predictors with all other predictors. The predictor that has higher average correlation is removed. "
   ]
  },
  {
   "cell_type": "code",
   "execution_count": 50,
   "metadata": {},
   "outputs": [
    {
     "data": {
      "text/html": [
       "<div>\n",
       "<style scoped>\n",
       "    .dataframe tbody tr th:only-of-type {\n",
       "        vertical-align: middle;\n",
       "    }\n",
       "\n",
       "    .dataframe tbody tr th {\n",
       "        vertical-align: top;\n",
       "    }\n",
       "\n",
       "    .dataframe thead th {\n",
       "        text-align: right;\n",
       "    }\n",
       "</style>\n",
       "<table border=\"1\" class=\"dataframe\">\n",
       "  <thead>\n",
       "    <tr style=\"text-align: right;\">\n",
       "      <th></th>\n",
       "      <th>Tot_Bil</th>\n",
       "      <th>Dir_Bil</th>\n",
       "      <th>Alk</th>\n",
       "      <th>Ala</th>\n",
       "      <th>Asp</th>\n",
       "      <th>Tot_Pro</th>\n",
       "      <th>Alb</th>\n",
       "      <th>AGR</th>\n",
       "      <th>Age</th>\n",
       "    </tr>\n",
       "  </thead>\n",
       "  <tbody>\n",
       "    <tr>\n",
       "      <th>Tot_Bil</th>\n",
       "      <td>1.000000</td>\n",
       "      <td>0.874618</td>\n",
       "      <td>0.206669</td>\n",
       "      <td>0.214065</td>\n",
       "      <td>0.237831</td>\n",
       "      <td>-0.008099</td>\n",
       "      <td>-0.222250</td>\n",
       "      <td>-0.206267</td>\n",
       "      <td>0.011763</td>\n",
       "    </tr>\n",
       "    <tr>\n",
       "      <th>Dir_Bil</th>\n",
       "      <td>0.874618</td>\n",
       "      <td>1.000000</td>\n",
       "      <td>0.234939</td>\n",
       "      <td>0.233894</td>\n",
       "      <td>0.257544</td>\n",
       "      <td>-0.000139</td>\n",
       "      <td>-0.228531</td>\n",
       "      <td>-0.200125</td>\n",
       "      <td>0.007529</td>\n",
       "    </tr>\n",
       "    <tr>\n",
       "      <th>Alk</th>\n",
       "      <td>0.206669</td>\n",
       "      <td>0.234939</td>\n",
       "      <td>1.000000</td>\n",
       "      <td>0.125680</td>\n",
       "      <td>0.167196</td>\n",
       "      <td>-0.028514</td>\n",
       "      <td>-0.165453</td>\n",
       "      <td>-0.234166</td>\n",
       "      <td>0.080425</td>\n",
       "    </tr>\n",
       "    <tr>\n",
       "      <th>Ala</th>\n",
       "      <td>0.214065</td>\n",
       "      <td>0.233894</td>\n",
       "      <td>0.125680</td>\n",
       "      <td>1.000000</td>\n",
       "      <td>0.791966</td>\n",
       "      <td>-0.042518</td>\n",
       "      <td>-0.029742</td>\n",
       "      <td>-0.002375</td>\n",
       "      <td>-0.086883</td>\n",
       "    </tr>\n",
       "    <tr>\n",
       "      <th>Asp</th>\n",
       "      <td>0.237831</td>\n",
       "      <td>0.257544</td>\n",
       "      <td>0.167196</td>\n",
       "      <td>0.791966</td>\n",
       "      <td>1.000000</td>\n",
       "      <td>-0.025645</td>\n",
       "      <td>-0.085290</td>\n",
       "      <td>-0.070040</td>\n",
       "      <td>-0.019910</td>\n",
       "    </tr>\n",
       "    <tr>\n",
       "      <th>Tot_Pro</th>\n",
       "      <td>-0.008099</td>\n",
       "      <td>-0.000139</td>\n",
       "      <td>-0.028514</td>\n",
       "      <td>-0.042518</td>\n",
       "      <td>-0.025645</td>\n",
       "      <td>1.000000</td>\n",
       "      <td>0.784053</td>\n",
       "      <td>0.234887</td>\n",
       "      <td>-0.187461</td>\n",
       "    </tr>\n",
       "    <tr>\n",
       "      <th>Alb</th>\n",
       "      <td>-0.222250</td>\n",
       "      <td>-0.228531</td>\n",
       "      <td>-0.165453</td>\n",
       "      <td>-0.029742</td>\n",
       "      <td>-0.085290</td>\n",
       "      <td>0.784053</td>\n",
       "      <td>1.000000</td>\n",
       "      <td>0.689632</td>\n",
       "      <td>-0.265924</td>\n",
       "    </tr>\n",
       "    <tr>\n",
       "      <th>AGR</th>\n",
       "      <td>-0.206267</td>\n",
       "      <td>-0.200125</td>\n",
       "      <td>-0.234166</td>\n",
       "      <td>-0.002375</td>\n",
       "      <td>-0.070040</td>\n",
       "      <td>0.234887</td>\n",
       "      <td>0.689632</td>\n",
       "      <td>1.000000</td>\n",
       "      <td>-0.216408</td>\n",
       "    </tr>\n",
       "    <tr>\n",
       "      <th>Age</th>\n",
       "      <td>0.011763</td>\n",
       "      <td>0.007529</td>\n",
       "      <td>0.080425</td>\n",
       "      <td>-0.086883</td>\n",
       "      <td>-0.019910</td>\n",
       "      <td>-0.187461</td>\n",
       "      <td>-0.265924</td>\n",
       "      <td>-0.216408</td>\n",
       "      <td>1.000000</td>\n",
       "    </tr>\n",
       "  </tbody>\n",
       "</table>\n",
       "</div>"
      ],
      "text/plain": [
       "          Tot_Bil   Dir_Bil       Alk       Ala       Asp   Tot_Pro       Alb  \\\n",
       "Tot_Bil  1.000000  0.874618  0.206669  0.214065  0.237831 -0.008099 -0.222250   \n",
       "Dir_Bil  0.874618  1.000000  0.234939  0.233894  0.257544 -0.000139 -0.228531   \n",
       "Alk      0.206669  0.234939  1.000000  0.125680  0.167196 -0.028514 -0.165453   \n",
       "Ala      0.214065  0.233894  0.125680  1.000000  0.791966 -0.042518 -0.029742   \n",
       "Asp      0.237831  0.257544  0.167196  0.791966  1.000000 -0.025645 -0.085290   \n",
       "Tot_Pro -0.008099 -0.000139 -0.028514 -0.042518 -0.025645  1.000000  0.784053   \n",
       "Alb     -0.222250 -0.228531 -0.165453 -0.029742 -0.085290  0.784053  1.000000   \n",
       "AGR     -0.206267 -0.200125 -0.234166 -0.002375 -0.070040  0.234887  0.689632   \n",
       "Age      0.011763  0.007529  0.080425 -0.086883 -0.019910 -0.187461 -0.265924   \n",
       "\n",
       "              AGR       Age  \n",
       "Tot_Bil -0.206267  0.011763  \n",
       "Dir_Bil -0.200125  0.007529  \n",
       "Alk     -0.234166  0.080425  \n",
       "Ala     -0.002375 -0.086883  \n",
       "Asp     -0.070040 -0.019910  \n",
       "Tot_Pro  0.234887 -0.187461  \n",
       "Alb      0.689632 -0.265924  \n",
       "AGR      1.000000 -0.216408  \n",
       "Age     -0.216408  1.000000  "
      ]
     },
     "execution_count": 50,
     "metadata": {},
     "output_type": "execute_result"
    }
   ],
   "source": [
    "corr_mat = df_cts.corr()\n",
    "corr_mat"
   ]
  },
  {
   "cell_type": "code",
   "execution_count": 51,
   "metadata": {},
   "outputs": [
    {
     "name": "stdout",
     "output_type": "stream",
     "text": [
      "0.03338722488680298\n",
      "0.043587411408625064\n"
     ]
    }
   ],
   "source": [
    "# Tot_Bil vs Dir_Bil\n",
    "\n",
    "print(np.mean(corr_mat['Tot_Bil'][2:]))\n",
    "print(np.mean(corr_mat['Dir_Bil'][2:])) #higher average correaltion"
   ]
  },
  {
   "cell_type": "code",
   "execution_count": 52,
   "metadata": {},
   "outputs": [
    {
     "name": "stdout",
     "output_type": "stream",
     "text": [
      "0.05887444757464074\n",
      "0.06595512138400036\n"
     ]
    }
   ],
   "source": [
    "# Ala vs Asp\n",
    "\n",
    "print(np.mean(corr_mat['Ala'][np.array([0,1,2, 5,6,7,8])]))\n",
    "print(np.mean(corr_mat['Asp'][np.array([0,1,2, 5,6,7,8])])) #higher average correaltion"
   ]
  },
  {
   "cell_type": "code",
   "execution_count": 53,
   "metadata": {},
   "outputs": [
    {
     "name": "stdout",
     "output_type": "stream",
     "text": [
      "-0.00821286801493888\n",
      "-0.043936834209195266\n"
     ]
    }
   ],
   "source": [
    "# Tot_Pro vs Alb\n",
    "\n",
    "print(np.mean(corr_mat['Tot_Pro'][np.array([0,1,2, 3,4,7,8])]))#higher average correaltion\n",
    "print(np.mean(corr_mat['Alb'][np.array([0,1,2, 3,4,7,8])])) "
   ]
  },
  {
   "cell_type": "code",
   "execution_count": 54,
   "metadata": {},
   "outputs": [
    {
     "name": "stdout",
     "output_type": "stream",
     "text": [
      "-0.043936834209195266\n",
      "0.010088352192507862\n"
     ]
    }
   ],
   "source": [
    "# Alb vs AGR\n",
    "\n",
    "print(np.mean(corr_mat['Alb'][np.array([0,1,2, 3,4,7,8])]))\n",
    "print(np.mean(corr_mat['AGR'][np.array([0,1,2, 3,4,7,8])])) #higher average correaltion"
   ]
  },
  {
   "cell_type": "markdown",
   "metadata": {},
   "source": [
    "Based on the results, we retain the following predictors for model building:\n",
    "\n",
    " - Age \n",
    " - Gender\n",
    " - Total Bilirubin (Tot_Bil)\n",
    " - Alkaline Phosphotase (Alk)\n",
    " - Alamine Aminotransferase (Ala)\n",
    " - Albumin (Alb)\n",
    " "
   ]
  },
  {
   "cell_type": "code",
   "execution_count": 55,
   "metadata": {},
   "outputs": [],
   "source": [
    "# Change gender to 0/1 variable\n",
    "\n",
    "sex = pd.get_dummies(df['Gender'], drop_first=True)"
   ]
  },
  {
   "cell_type": "code",
   "execution_count": 56,
   "metadata": {},
   "outputs": [],
   "source": [
    "df = pd.concat([df, sex], axis = 1)\n",
    "\n",
    "df.drop(['Gender'], axis = 1, inplace = True)"
   ]
  },
  {
   "cell_type": "code",
   "execution_count": 57,
   "metadata": {},
   "outputs": [],
   "source": [
    "# Change Disease to 0/1 variable - 1 means disease; 0 means no disease\n",
    "rename = {\"Disease\": 1, \"No Disease\": 0}\n",
    "df.replace({\"Disease\": rename}, inplace=True)"
   ]
  },
  {
   "cell_type": "code",
   "execution_count": 58,
   "metadata": {},
   "outputs": [],
   "source": [
    "X = df[['Age', 'Male', 'Tot_Bil', 'Alk', 'Ala', 'Alb']]\n",
    "y = df['Disease']"
   ]
  },
  {
   "cell_type": "markdown",
   "metadata": {},
   "source": [
    "** Data Balancing **\n",
    "\n",
    "Our response is imbalanced with 1/0 ratio of approximately 75/25. There are several strategies for dealing with class imbalance including under-sampling majority class, over-sampling miniority class and SMOTE. SMOTE is a popular method that relies on creating synthetic observations based on nearest neighbor observations to balance the class proportions. A random observation in the minority class is first picked, and a random neighbor is elected. Then, a synthetic observation is created at a randomly selected point in between the two observations in the feature space. \n",
    "\n",
    "We use the imbalanced-learn package to implement SMOTE in Python"
   ]
  },
  {
   "cell_type": "code",
   "execution_count": 59,
   "metadata": {},
   "outputs": [],
   "source": [
    "from imblearn.over_sampling import SMOTE\n",
    "\n",
    "oversample = SMOTE()\n",
    "X_smote, y_smote = oversample.fit_resample(X, y)"
   ]
  },
  {
   "cell_type": "code",
   "execution_count": 60,
   "metadata": {},
   "outputs": [
    {
     "data": {
      "text/plain": [
       "Counter({1: 416, 0: 416})"
      ]
     },
     "execution_count": 60,
     "metadata": {},
     "output_type": "execute_result"
    }
   ],
   "source": [
    "from collections import Counter\n",
    "\n",
    "Counter(y_smote)"
   ]
  },
  {
   "cell_type": "markdown",
   "metadata": {},
   "source": [
    "Now we have an equal number of 0's and 1's in the data set!"
   ]
  },
  {
   "cell_type": "markdown",
   "metadata": {},
   "source": [
    "## Model Building"
   ]
  },
  {
   "cell_type": "markdown",
   "metadata": {},
   "source": [
    "First, we need to split our data into train and test data sets. Then, we scale both data sets using scalers fit to just the training set. \n",
    "\n",
    "Next, we fit the following models:\n",
    "- Logistic regression\n",
    "- Support vector machines\n",
    "- Random forests\n",
    "- XGBoost\n",
    "\n",
    "We will compare the various fit metrics for each model and determine which models provide best fit for this dataset. "
   ]
  },
  {
   "cell_type": "code",
   "execution_count": 61,
   "metadata": {},
   "outputs": [],
   "source": [
    "from sklearn.model_selection import train_test_split\n",
    "from sklearn.linear_model import LogisticRegression\n",
    "from sklearn.svm import SVC\n",
    "from sklearn.ensemble import RandomForestClassifier\n",
    "\n",
    "from sklearn.metrics import classification_report, confusion_matrix, roc_auc_score"
   ]
  },
  {
   "cell_type": "code",
   "execution_count": 62,
   "metadata": {},
   "outputs": [],
   "source": [
    "# Create train and test data sets\n",
    "\n",
    "X_train, X_test, y_train, y_test = train_test_split(X_smote, y_smote, test_size= 0.2, random_state=42) "
   ]
  },
  {
   "cell_type": "code",
   "execution_count": 63,
   "metadata": {},
   "outputs": [
    {
     "name": "stdout",
     "output_type": "stream",
     "text": [
      "Train values shape: (665, 6)\n",
      "Test values shape: (167, 6)\n"
     ]
    }
   ],
   "source": [
    "print('Train values shape:', X_train.shape)\n",
    "print('Test values shape:', X_test.shape)"
   ]
  },
  {
   "cell_type": "code",
   "execution_count": 64,
   "metadata": {},
   "outputs": [],
   "source": [
    "# Variable scaling\n",
    "\n",
    "from sklearn.preprocessing import StandardScaler\n",
    "\n",
    "scaler = StandardScaler()\n",
    "X_train = scaler.fit_transform(X_train)\n",
    "X_test = scaler.transform(X_test)"
   ]
  },
  {
   "cell_type": "code",
   "execution_count": null,
   "metadata": {},
   "outputs": [],
   "source": []
  },
  {
   "cell_type": "markdown",
   "metadata": {},
   "source": [
    "#### Logistic Regression"
   ]
  },
  {
   "cell_type": "code",
   "execution_count": 83,
   "metadata": {},
   "outputs": [],
   "source": [
    "logistic = LogisticRegression()\n",
    "logistic.fit(X_train, y_train)\n",
    "\n",
    "y_train_hat = logistic.predict(X_train)\n",
    "y_test_hat = logistic.predict(X_test)\n",
    "log_auc = roc_auc_score(y_test, y_test_hat)"
   ]
  },
  {
   "cell_type": "code",
   "execution_count": 66,
   "metadata": {},
   "outputs": [
    {
     "name": "stdout",
     "output_type": "stream",
     "text": [
      "-----------------------\n",
      "Logistic Regression\n",
      "-----------------------\n",
      "              precision    recall  f1-score   support\n",
      "\n",
      "           0       0.79      0.85      0.82        92\n",
      "           1       0.79      0.72      0.76        75\n",
      "\n",
      "    accuracy                           0.79       167\n",
      "   macro avg       0.79      0.78      0.79       167\n",
      "weighted avg       0.79      0.79      0.79       167\n",
      "\n",
      "\n",
      "Confusion Matrix\n",
      "[[78 14]\n",
      " [21 54]]\n",
      "\n",
      "AUC Score\n",
      "0.7839130434782609\n"
     ]
    }
   ],
   "source": [
    "print('-----------------------')\n",
    "print(\"Logistic Regression\")\n",
    "print('-----------------------')\n",
    "print(classification_report(y_test, y_test_hat))\n",
    "print('')\n",
    "print(\"Confusion Matrix\")\n",
    "print(confusion_matrix(y_test, y_test_hat))\n",
    "print('')\n",
    "print(\"AUC Score\")\n",
    "print(roc_auc_score(y_test, y_test_hat))"
   ]
  },
  {
   "cell_type": "markdown",
   "metadata": {},
   "source": [
    "The logisitic regression has an F score of 0.79 and AUC score of 0.784. "
   ]
  },
  {
   "cell_type": "markdown",
   "metadata": {},
   "source": [
    "#### Support Vector Machines"
   ]
  },
  {
   "cell_type": "code",
   "execution_count": 67,
   "metadata": {},
   "outputs": [],
   "source": [
    "model = SVC()\n",
    "model.fit(X_train, y_train)\n",
    "y_train_hat = model.predict(X_train)\n",
    "y_test_hat = model.predict(X_test)\n",
    "svc_auc = roc_auc_score(y_test, y_test_hat)"
   ]
  },
  {
   "cell_type": "code",
   "execution_count": 68,
   "metadata": {},
   "outputs": [
    {
     "name": "stdout",
     "output_type": "stream",
     "text": [
      "-----------------------\n",
      "Support Vector Classifier\n",
      "-----------------------\n",
      "              precision    recall  f1-score   support\n",
      "\n",
      "           0       0.72      0.89      0.80        92\n",
      "           1       0.81      0.57      0.67        75\n",
      "\n",
      "    accuracy                           0.75       167\n",
      "   macro avg       0.77      0.73      0.73       167\n",
      "weighted avg       0.76      0.75      0.74       167\n",
      "\n",
      "\n",
      "Confusion Matrix\n",
      "[[82 10]\n",
      " [32 43]]\n",
      "\n",
      "AUC Score\n",
      "0.7323188405797101\n"
     ]
    }
   ],
   "source": [
    "print('-----------------------')\n",
    "print(\"Support Vector Classifier\")\n",
    "print('-----------------------')\n",
    "print(classification_report(y_test, y_test_hat))\n",
    "print('')\n",
    "print(\"Confusion Matrix\")\n",
    "print(confusion_matrix(y_test, y_test_hat))\n",
    "print('')\n",
    "print(\"AUC Score\")\n",
    "print(roc_auc_score(y_test, y_test_hat))"
   ]
  },
  {
   "cell_type": "markdown",
   "metadata": {},
   "source": [
    "SVM had worse performance accuracy than logistic regression. We will explore tree based model such as random forest and XGBoost next!"
   ]
  },
  {
   "cell_type": "markdown",
   "metadata": {},
   "source": [
    "#### Random Forest"
   ]
  },
  {
   "cell_type": "code",
   "execution_count": 69,
   "metadata": {},
   "outputs": [],
   "source": [
    "rf = RandomForestClassifier(random_state=101)\n",
    "rf.fit(X_train, y_train)\n",
    "\n",
    "y_train_hat = rf.predict(X_train)\n",
    "y_test_hat = rf.predict(X_test)"
   ]
  },
  {
   "cell_type": "code",
   "execution_count": 70,
   "metadata": {},
   "outputs": [
    {
     "name": "stdout",
     "output_type": "stream",
     "text": [
      "-----------------------\n",
      "Random Forest\n",
      "-----------------------\n",
      "              precision    recall  f1-score   support\n",
      "\n",
      "           0       0.83      0.80      0.82        92\n",
      "           1       0.77      0.80      0.78        75\n",
      "\n",
      "    accuracy                           0.80       167\n",
      "   macro avg       0.80      0.80      0.80       167\n",
      "weighted avg       0.80      0.80      0.80       167\n",
      "\n",
      "\n",
      "Confusion Matrix\n",
      "[[74 18]\n",
      " [15 60]]\n",
      "\n",
      "AUC Score\n",
      "0.8021739130434783\n"
     ]
    }
   ],
   "source": [
    "print('-----------------------')\n",
    "print(\"Random Forest\")\n",
    "print('-----------------------')\n",
    "print(classification_report(y_test, y_test_hat))\n",
    "print('')\n",
    "print(\"Confusion Matrix\")\n",
    "print(confusion_matrix(y_test, y_test_hat))\n",
    "print('')\n",
    "print(\"AUC Score\")\n",
    "print(roc_auc_score(y_test, y_test_hat))"
   ]
  },
  {
   "cell_type": "markdown",
   "metadata": {},
   "source": [
    "The random forest method has an F score of 0.80 and AUC score 0f 0.802. \n",
    "\n",
    "We can search hyperparameter space to find best random forest model for this data!"
   ]
  },
  {
   "cell_type": "code",
   "execution_count": 71,
   "metadata": {},
   "outputs": [
    {
     "name": "stdout",
     "output_type": "stream",
     "text": [
      "Fitting 3 folds for each of 100 candidates, totalling 300 fits\n"
     ]
    },
    {
     "name": "stderr",
     "output_type": "stream",
     "text": [
      "C:\\Users\\vamsi\\Anaconda3\\lib\\site-packages\\sklearn\\model_selection\\_search.py:921: UserWarning: One or more of the test scores are non-finite: [       nan 0.80851355 0.82845668 0.78128181        nan 0.78047834\n",
      " 0.80406434 0.83824496 0.84138134 0.77814148 0.79590456 0.82356087\n",
      " 0.82858367 0.79401347 0.79922722 0.82538033        nan        nan\n",
      " 0.84367531 0.78036944 0.81123699 0.77931584 0.81176984        nan\n",
      " 0.84889122 0.77793663 0.84948876        nan 0.77949469 0.78035722\n",
      " 0.79436099        nan 0.81444824        nan 0.84107178        nan\n",
      " 0.81999622        nan        nan        nan 0.79420849 0.84052372\n",
      " 0.80845414 0.82601501 0.84259295 0.83707168        nan 0.81469598\n",
      " 0.81145526 0.84931925 0.83880081 0.82918049 0.80919232 0.79563119\n",
      " 0.83499251 0.84157624 0.795975   0.79738404 0.82082809        nan\n",
      " 0.81100147 0.82098646        nan 0.79165948 0.79643885 0.80909648\n",
      "        nan        nan 0.83635818        nan 0.78101825 0.81757467\n",
      " 0.78199675 0.79361239 0.81164837 0.81774262        nan 0.82564556\n",
      " 0.82199849 0.82426982 0.84625379 0.83940003 0.79508492 0.81961479\n",
      " 0.84016793 0.79570594 0.82575169 0.77978699 0.82291062        nan\n",
      " 0.81990159 0.81336576 0.78021215        nan 0.84105897 0.79246091\n",
      "        nan        nan 0.78096974        nan]\n",
      "  category=UserWarning\n"
     ]
    },
    {
     "data": {
      "text/plain": [
       "RandomizedSearchCV(cv=3, estimator=RandomForestClassifier(), n_iter=100,\n",
       "                   n_jobs=-1,\n",
       "                   param_distributions={'criterion': ['gini', 'entropy'],\n",
       "                                        'max_leaf_nodes': [4, 10, 20, 50, None],\n",
       "                                        'min_samples_leaf': [1, 2, 4, 5],\n",
       "                                        'min_samples_split': [1, 2, 4, 5],\n",
       "                                        'n_estimators': [100, 200, 500]},\n",
       "                   random_state=101, scoring='roc_auc', verbose=2)"
      ]
     },
     "execution_count": 71,
     "metadata": {},
     "output_type": "execute_result"
    }
   ],
   "source": [
    "from sklearn.model_selection import RandomizedSearchCV\n",
    "\n",
    "random_grid = {\n",
    "    'n_estimators': [100, 200, 500],\n",
    "    'criterion': ['gini', 'entropy'],\n",
    "    'min_samples_split': [1,2,4,5],\n",
    "    'min_samples_leaf': [1,2,4,5],\n",
    "    'max_leaf_nodes': [4,10,20,50,None]\n",
    "}\n",
    "\n",
    "rf_random = RandomizedSearchCV(estimator = RandomForestClassifier(), param_distributions = random_grid, n_jobs=-1, cv=3, n_iter = 100, verbose = 2, scoring='roc_auc', random_state = 101)\n",
    "rf_random.fit(X_train, y_train)\n"
   ]
  },
  {
   "cell_type": "code",
   "execution_count": 72,
   "metadata": {},
   "outputs": [],
   "source": [
    "best_random = rf_random.best_estimator_\n",
    "random_predict = best_random.predict(X_test)\n",
    "rf_auc = roc_auc_score(y_test, random_predict)"
   ]
  },
  {
   "cell_type": "code",
   "execution_count": 73,
   "metadata": {},
   "outputs": [
    {
     "name": "stdout",
     "output_type": "stream",
     "text": [
      "-----------------------\n",
      "Best Random Forest\n",
      "-----------------------\n",
      "              precision    recall  f1-score   support\n",
      "\n",
      "           0       0.84      0.79      0.82        92\n",
      "           1       0.76      0.81      0.79        75\n",
      "\n",
      "    accuracy                           0.80       167\n",
      "   macro avg       0.80      0.80      0.80       167\n",
      "weighted avg       0.80      0.80      0.80       167\n",
      "\n",
      "\n",
      "Confusion Matrix\n",
      "[[73 19]\n",
      " [14 61]]\n",
      "\n",
      "AUC Score\n",
      "0.8034057971014492\n"
     ]
    }
   ],
   "source": [
    "print('-----------------------')\n",
    "print(\"Best Random Forest\")\n",
    "print('-----------------------')\n",
    "print(classification_report(y_test, random_predict))\n",
    "print('')\n",
    "print(\"Confusion Matrix\")\n",
    "print(confusion_matrix(y_test, random_predict))\n",
    "print('')\n",
    "print(\"AUC Score\")\n",
    "print(roc_auc_score(y_test, random_predict))"
   ]
  },
  {
   "cell_type": "markdown",
   "metadata": {},
   "source": [
    "The best random forest method has an F score of 0.80 and AUC score 0f 0.803.\n",
    "We had only a very marginal improvement of 0.001 in AUC score through hyperparameter tuning!"
   ]
  },
  {
   "cell_type": "markdown",
   "metadata": {},
   "source": [
    "#### XGBoost"
   ]
  },
  {
   "cell_type": "markdown",
   "metadata": {},
   "source": [
    "Random forests are one approach to ensemble tree based models where several trees are grown in parallel and their performance is averaged. \n",
    "\n",
    "Boosting is the other approach to ensemble tree based models where trees are grown in a sequential manner. Each tree tries to improve or correct the mistakes made by the previous tree. Each tree is fairly shallow to avoid issues of overfitting!"
   ]
  },
  {
   "cell_type": "code",
   "execution_count": 74,
   "metadata": {},
   "outputs": [
    {
     "name": "stdout",
     "output_type": "stream",
     "text": [
      "[15:49:22] WARNING: C:/Users/Administrator/workspace/xgboost-win64_release_1.3.0/src/learner.cc:1061: Starting in XGBoost 1.3.0, the default evaluation metric used with the objective 'binary:logistic' was changed from 'error' to 'logloss'. Explicitly set eval_metric if you'd like to restore the old behavior.\n"
     ]
    }
   ],
   "source": [
    "from xgboost import XGBClassifier\n",
    "\n",
    "xgb = XGBClassifier(random_state = 101, use_label_encoder=False)\n",
    "xgb.fit(X_train, y_train)\n",
    "\n",
    "y_train_hat = rf.predict(X_train)\n",
    "y_test_hat = rf.predict(X_test)"
   ]
  },
  {
   "cell_type": "code",
   "execution_count": 75,
   "metadata": {},
   "outputs": [
    {
     "name": "stdout",
     "output_type": "stream",
     "text": [
      "-----------------------\n",
      "XGBoost Classifier\n",
      "-----------------------\n",
      "              precision    recall  f1-score   support\n",
      "\n",
      "           0       0.83      0.80      0.82        92\n",
      "           1       0.77      0.80      0.78        75\n",
      "\n",
      "    accuracy                           0.80       167\n",
      "   macro avg       0.80      0.80      0.80       167\n",
      "weighted avg       0.80      0.80      0.80       167\n",
      "\n",
      "\n",
      "Confusion Matrix\n",
      "[[74 18]\n",
      " [15 60]]\n",
      "\n",
      "AUC Score\n",
      "0.8021739130434783\n"
     ]
    }
   ],
   "source": [
    "print('-----------------------')\n",
    "print(\"XGBoost Classifier\")\n",
    "print('-----------------------')\n",
    "print(classification_report(y_test, y_test_hat))\n",
    "print('')\n",
    "print(\"Confusion Matrix\")\n",
    "print(confusion_matrix(y_test, y_test_hat))\n",
    "print('')\n",
    "print(\"AUC Score\")\n",
    "print(roc_auc_score(y_test, y_test_hat))"
   ]
  },
  {
   "cell_type": "markdown",
   "metadata": {},
   "source": [
    "Interestingly, XGBoost had identical classification performance as the best random forest model!\n",
    "\n",
    "We can perform hyperparameter tuning to see if we can imporve the performance of the default XGBoost model. "
   ]
  },
  {
   "cell_type": "code",
   "execution_count": 76,
   "metadata": {},
   "outputs": [
    {
     "name": "stdout",
     "output_type": "stream",
     "text": [
      "Fitting 3 folds for each of 100 candidates, totalling 300 fits\n"
     ]
    },
    {
     "name": "stderr",
     "output_type": "stream",
     "text": [
      "C:\\Users\\vamsi\\Anaconda3\\lib\\site-packages\\sklearn\\model_selection\\_search.py:921: UserWarning: One or more of the test scores are non-finite: [0.79023499 0.81820839        nan 0.83524623        nan 0.85563261\n",
      " 0.85264801 0.5        0.5        0.5        0.5        0.81731424\n",
      " 0.82780332        nan        nan 0.5        0.5               nan\n",
      "        nan 0.84835525        nan 0.82760134 0.81243232 0.78864578\n",
      "        nan 0.80874165        nan 0.5        0.5        0.80892721\n",
      "        nan        nan        nan 0.8532882         nan 0.5\n",
      "        nan 0.76521263        nan 0.77860617 0.5        0.5\n",
      "        nan 0.5        0.83540844 0.78941978        nan        nan\n",
      " 0.78736468        nan 0.82351547        nan        nan        nan\n",
      "        nan 0.76458323 0.5        0.83461898 0.84783725 0.8091801\n",
      " 0.78227923 0.8437527  0.85778175        nan 0.76431153        nan\n",
      " 0.8217565  0.8517426  0.5               nan 0.5               nan\n",
      "        nan 0.5               nan        nan        nan        nan\n",
      " 0.82002402 0.76521263        nan        nan        nan 0.84413053\n",
      "        nan 0.7890296         nan 0.85935275 0.5               nan\n",
      " 0.83163151 0.5        0.84787775 0.83734865 0.80032862        nan\n",
      " 0.77326531 0.86171344 0.76521215 0.5       ]\n",
      "  category=UserWarning\n",
      "C:\\Users\\vamsi\\Anaconda3\\lib\\site-packages\\xgboost\\sklearn.py:892: UserWarning: The use of label encoder in XGBClassifier is deprecated and will be removed in a future release. To remove this warning, do the following: 1) Pass option use_label_encoder=False when constructing XGBClassifier object; and 2) Encode your labels (y) as integers starting with 0, i.e. 0, 1, 2, ..., [num_class - 1].\n",
      "  warnings.warn(label_encoder_deprecation_msg, UserWarning)\n"
     ]
    },
    {
     "name": "stdout",
     "output_type": "stream",
     "text": [
      "[15:49:43] WARNING: C:/Users/Administrator/workspace/xgboost-win64_release_1.3.0/src/learner.cc:1061: Starting in XGBoost 1.3.0, the default evaluation metric used with the objective 'binary:logistic' was changed from 'error' to 'logloss'. Explicitly set eval_metric if you'd like to restore the old behavior.\n"
     ]
    },
    {
     "data": {
      "text/plain": [
       "RandomizedSearchCV(cv=3,\n",
       "                   estimator=XGBClassifier(base_score=None, booster=None,\n",
       "                                           colsample_bylevel=None,\n",
       "                                           colsample_bynode=None,\n",
       "                                           colsample_bytree=None, gamma=None,\n",
       "                                           gpu_id=None, importance_type='gain',\n",
       "                                           interaction_constraints=None,\n",
       "                                           learning_rate=None,\n",
       "                                           max_delta_step=None, max_depth=None,\n",
       "                                           min_child_weight=None, missing=nan,\n",
       "                                           monotone_constraints=None,\n",
       "                                           n_estimators=100,...\n",
       "                                           scale_pos_weight=None,\n",
       "                                           subsample=None, tree_method=None,\n",
       "                                           validate_parameters=None,\n",
       "                                           verbosity=None),\n",
       "                   n_iter=100, n_jobs=-1,\n",
       "                   param_distributions={'base_score': [0.2, 0.5, 1],\n",
       "                                        'booster': ['gbtree', 'gblinear'],\n",
       "                                        'gamma': [0, 0.5, 1],\n",
       "                                        'learning_rate': [0.01, 0.05, 0.1],\n",
       "                                        'n_estimators': [100, 200, 500],\n",
       "                                        'reg_alpha': [0, 0.5, 1],\n",
       "                                        'reg_lambda': [0.5, 1, 5]},\n",
       "                   random_state=101, scoring='roc_auc', verbose=2)"
      ]
     },
     "execution_count": 76,
     "metadata": {},
     "output_type": "execute_result"
    }
   ],
   "source": [
    "from sklearn.model_selection import RandomizedSearchCV\n",
    "\n",
    "random_grid = {\n",
    "    'n_estimators': [100, 200, 500],\n",
    "    'learning_rate': [0.01,0.05,0.1],\n",
    "    'booster': ['gbtree', 'gblinear'],\n",
    "    'gamma': [0, 0.5, 1],\n",
    "    'reg_alpha': [0, 0.5, 1],\n",
    "    'reg_lambda': [0.5, 1, 5],\n",
    "    'base_score': [0.2, 0.5, 1]\n",
    "}\n",
    "\n",
    "xgb_random = RandomizedSearchCV(estimator = XGBClassifier(), param_distributions = random_grid, n_jobs=-1, cv=3, n_iter = 100, verbose = 2, scoring='roc_auc', random_state = 101)\n",
    "xgb_random.fit(X_train, y_train)\n"
   ]
  },
  {
   "cell_type": "code",
   "execution_count": 77,
   "metadata": {},
   "outputs": [],
   "source": [
    "best_random = xgb_random.best_estimator_\n",
    "random_predict = best_random.predict(X_test)\n",
    "xgb_auc = roc_auc_score(y_test, random_predict)"
   ]
  },
  {
   "cell_type": "code",
   "execution_count": 78,
   "metadata": {},
   "outputs": [
    {
     "name": "stdout",
     "output_type": "stream",
     "text": [
      "-----------------------\n",
      "Best XGBoost\n",
      "-----------------------\n",
      "              precision    recall  f1-score   support\n",
      "\n",
      "           0       0.86      0.85      0.85        92\n",
      "           1       0.82      0.83      0.82        75\n",
      "\n",
      "    accuracy                           0.84       167\n",
      "   macro avg       0.84      0.84      0.84       167\n",
      "weighted avg       0.84      0.84      0.84       167\n",
      "\n",
      "\n",
      "Confusion Matrix\n",
      "[[78 14]\n",
      " [13 62]]\n",
      "\n",
      "AUC Score\n",
      "0.8372463768115942\n"
     ]
    }
   ],
   "source": [
    "print('-----------------------')\n",
    "print(\"Best XGBoost\")\n",
    "print('-----------------------')\n",
    "print(classification_report(y_test, random_predict))\n",
    "print('')\n",
    "print(\"Confusion Matrix\")\n",
    "print(confusion_matrix(y_test, random_predict))\n",
    "print('')\n",
    "print(\"AUC Score\")\n",
    "print(roc_auc_score(y_test, random_predict))"
   ]
  },
  {
   "cell_type": "markdown",
   "metadata": {},
   "source": [
    "The best XGBoost Classifier had a slight imporvement over the base XGBoost and the best random forest model!!\n",
    "\n",
    "We acheieved an F-score of 0.84 and a AUC score of 0.837. "
   ]
  },
  {
   "cell_type": "markdown",
   "metadata": {},
   "source": [
    "## Result and Summary"
   ]
  },
  {
   "cell_type": "markdown",
   "metadata": {},
   "source": [
    "In this project, we examined a liver disease data set collected in India. \n",
    "We explored the data using visualizations, then cleaned the data and performed feature engineering. \n",
    "We addressed the class imbalance in the response using SMOTE. \n",
    "Finally, we fit 4 different classifiers and their results are summarized below!\n",
    "\n",
    "Overall, XGBoost had the best classification accuracy with an AUC score of 0.837. "
   ]
  },
  {
   "cell_type": "code",
   "execution_count": 105,
   "metadata": {},
   "outputs": [
    {
     "data": {
      "text/html": [
       "<div>\n",
       "<style scoped>\n",
       "    .dataframe tbody tr th:only-of-type {\n",
       "        vertical-align: middle;\n",
       "    }\n",
       "\n",
       "    .dataframe tbody tr th {\n",
       "        vertical-align: top;\n",
       "    }\n",
       "\n",
       "    .dataframe thead th {\n",
       "        text-align: right;\n",
       "    }\n",
       "</style>\n",
       "<table border=\"1\" class=\"dataframe\">\n",
       "  <thead>\n",
       "    <tr style=\"text-align: right;\">\n",
       "      <th></th>\n",
       "      <th>Model</th>\n",
       "      <th>AUC Score</th>\n",
       "    </tr>\n",
       "  </thead>\n",
       "  <tbody>\n",
       "    <tr>\n",
       "      <th>0</th>\n",
       "      <td>XGBoost</td>\n",
       "      <td>0.837246</td>\n",
       "    </tr>\n",
       "    <tr>\n",
       "      <th>1</th>\n",
       "      <td>Random Forest Classifier</td>\n",
       "      <td>0.803406</td>\n",
       "    </tr>\n",
       "    <tr>\n",
       "      <th>2</th>\n",
       "      <td>Logistic Regression</td>\n",
       "      <td>0.783913</td>\n",
       "    </tr>\n",
       "    <tr>\n",
       "      <th>3</th>\n",
       "      <td>Support Vector Classifier</td>\n",
       "      <td>0.732319</td>\n",
       "    </tr>\n",
       "  </tbody>\n",
       "</table>\n",
       "</div>"
      ],
      "text/plain": [
       "                       Model  AUC Score\n",
       "0                    XGBoost   0.837246\n",
       "1   Random Forest Classifier   0.803406\n",
       "2        Logistic Regression   0.783913\n",
       "3  Support Vector Classifier   0.732319"
      ]
     },
     "execution_count": 105,
     "metadata": {},
     "output_type": "execute_result"
    }
   ],
   "source": [
    "results = pd.DataFrame({'Model': ['Logistic Regression','Support Vector Classifier','Random Forest Classifier', 'XGBoost'],\n",
    "                        'AUC Score': [log_auc, svc_auc, rf_auc, xgb_auc]})\n",
    "df_results = results.sort_values(by='AUC Score', ascending=False)\n",
    "df_results = df_results.reset_index(drop = True)\n",
    "df_results"
   ]
  },
  {
   "cell_type": "markdown",
   "metadata": {},
   "source": [
    "The results can be visualized using a barplot for easy interpretation!"
   ]
  },
  {
   "cell_type": "code",
   "execution_count": 104,
   "metadata": {},
   "outputs": [
    {
     "data": {
      "text/plain": [
       "<matplotlib.axes._subplots.AxesSubplot at 0x2c9be02c160>"
      ]
     },
     "execution_count": 104,
     "metadata": {},
     "output_type": "execute_result"
    },
    {
     "data": {
      "image/png": "[encoded data removed]",
      "text/plain": [
       "<Figure size 432x288 with 1 Axes>"
      ]
     },
     "metadata": {},
     "output_type": "display_data"
    }
   ],
   "source": [
    "sns.barplot(y = 'Model', x = 'AUC Score', data = df_results, orient='h', palette='bright')"
   ]
  }
 ],
 "metadata": {
  "kernelspec": {
   "display_name": "Python 3",
   "language": "python",
   "name": "python3"
  },
  "language_info": {
   "codemirror_mode": {
    "name": "ipython",
    "version": 3
   },
   "file_extension": ".py",
   "mimetype": "text/x-python",
   "name": "python",
   "nbconvert_exporter": "python",
   "pygments_lexer": "ipython3",
   "version": "3.6.5"
  }
 },
 "nbformat": 4,
 "nbformat_minor": 2
}
